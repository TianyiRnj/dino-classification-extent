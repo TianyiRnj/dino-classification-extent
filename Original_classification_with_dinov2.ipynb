{
  "nbformat": 4,
  "nbformat_minor": 0,
  "metadata": {
    "colab": {
      "provenance": [],
      "gpuType": "T4",
      "include_colab_link": true
    },
    "kernelspec": {
      "name": "python3",
      "display_name": "Python 3"
    },
    "language_info": {
      "name": "python"
    },
    "accelerator": "GPU"
  },
  "cells": [
    {
      "cell_type": "markdown",
      "metadata": {
        "id": "view-in-github",
        "colab_type": "text"
      },
      "source": [
        "<a href=\"https://colab.research.google.com/github/TianyiRnj/dino-classification-extent/blob/PTDQ/Original_classification_with_dinov2.ipynb\" target=\"_parent\"><img src=\"https://colab.research.google.com/assets/colab-badge.svg\" alt=\"Open In Colab\"/></a>"
      ]
    },
    {
      "cell_type": "code",
      "execution_count": null,
      "metadata": {
        "id": "l1SzyWjzjhqC",
        "colab": {
          "base_uri": "https://localhost:8080/"
        },
        "outputId": "afde30ac-be0c-4d5b-ef09-f8b8b55abf6a"
      },
      "outputs": [
        {
          "output_type": "stream",
          "name": "stdout",
          "text": [
            "\u001b[2K   \u001b[90m━━━━━━━━━━━━━━━━━━━━━━━━━━━━━━━━━━━━━━━━\u001b[0m \u001b[32m363.4/363.4 MB\u001b[0m \u001b[31m4.2 MB/s\u001b[0m eta \u001b[36m0:00:00\u001b[0m\n",
            "\u001b[2K   \u001b[90m━━━━━━━━━━━━━━━━━━━━━━━━━━━━━━━━━━━━━━━━\u001b[0m \u001b[32m13.8/13.8 MB\u001b[0m \u001b[31m80.3 MB/s\u001b[0m eta \u001b[36m0:00:00\u001b[0m\n",
            "\u001b[2K   \u001b[90m━━━━━━━━━━━━━━━━━━━━━━━━━━━━━━━━━━━━━━━━\u001b[0m \u001b[32m24.6/24.6 MB\u001b[0m \u001b[31m54.7 MB/s\u001b[0m eta \u001b[36m0:00:00\u001b[0m\n",
            "\u001b[2K   \u001b[90m━━━━━━━━━━━━━━━━━━━━━━━━━━━━━━━━━━━━━━━━\u001b[0m \u001b[32m883.7/883.7 kB\u001b[0m \u001b[31m40.4 MB/s\u001b[0m eta \u001b[36m0:00:00\u001b[0m\n",
            "\u001b[2K   \u001b[90m━━━━━━━━━━━━━━━━━━━━━━━━━━━━━━━━━━━━━━━━\u001b[0m \u001b[32m664.8/664.8 MB\u001b[0m \u001b[31m2.8 MB/s\u001b[0m eta \u001b[36m0:00:00\u001b[0m\n",
            "\u001b[2K   \u001b[90m━━━━━━━━━━━━━━━━━━━━━━━━━━━━━━━━━━━━━━━━\u001b[0m \u001b[32m211.5/211.5 MB\u001b[0m \u001b[31m5.8 MB/s\u001b[0m eta \u001b[36m0:00:00\u001b[0m\n",
            "\u001b[2K   \u001b[90m━━━━━━━━━━━━━━━━━━━━━━━━━━━━━━━━━━━━━━━━\u001b[0m \u001b[32m56.3/56.3 MB\u001b[0m \u001b[31m12.3 MB/s\u001b[0m eta \u001b[36m0:00:00\u001b[0m\n",
            "\u001b[2K   \u001b[90m━━━━━━━━━━━━━━━━━━━━━━━━━━━━━━━━━━━━━━━━\u001b[0m \u001b[32m127.9/127.9 MB\u001b[0m \u001b[31m7.4 MB/s\u001b[0m eta \u001b[36m0:00:00\u001b[0m\n",
            "\u001b[2K   \u001b[90m━━━━━━━━━━━━━━━━━━━━━━━━━━━━━━━━━━━━━━━━\u001b[0m \u001b[32m207.5/207.5 MB\u001b[0m \u001b[31m4.5 MB/s\u001b[0m eta \u001b[36m0:00:00\u001b[0m\n",
            "\u001b[2K   \u001b[90m━━━━━━━━━━━━━━━━━━━━━━━━━━━━━━━━━━━━━━━━\u001b[0m \u001b[32m21.1/21.1 MB\u001b[0m \u001b[31m60.0 MB/s\u001b[0m eta \u001b[36m0:00:00\u001b[0m\n",
            "\u001b[?25h"
          ]
        }
      ],
      "source": [
        "!pip install torch torchvision pandas numpy matplotlib tqdm --quiet"
      ]
    },
    {
      "cell_type": "code",
      "source": [
        "!pip install torchinfo --quiet"
      ],
      "metadata": {
        "id": "5yHq_0kUnEkA"
      },
      "execution_count": null,
      "outputs": []
    },
    {
      "cell_type": "code",
      "source": [
        "!pip install datasets --quiet"
      ],
      "metadata": {
        "colab": {
          "base_uri": "https://localhost:8080/"
        },
        "id": "zruaxu6jlhUQ",
        "outputId": "bc66b795-0aab-4e34-a56d-aaf95630018b"
      },
      "execution_count": null,
      "outputs": [
        {
          "output_type": "stream",
          "name": "stdout",
          "text": [
            "\u001b[?25l   \u001b[90m━━━━━━━━━━━━━━━━━━━━━━━━━━━━━━━━━━━━━━━━\u001b[0m \u001b[32m0.0/485.4 kB\u001b[0m \u001b[31m?\u001b[0m eta \u001b[36m-:--:--\u001b[0m\r\u001b[2K   \u001b[90m━━━━━━━━━━━━━━━━━━━━━━━━━━━━━━━━━━━━━━━━\u001b[0m \u001b[32m485.4/485.4 kB\u001b[0m \u001b[31m20.0 MB/s\u001b[0m eta \u001b[36m0:00:00\u001b[0m\n",
            "\u001b[?25h\u001b[?25l   \u001b[90m━━━━━━━━━━━━━━━━━━━━━━━━━━━━━━━━━━━━━━━━\u001b[0m \u001b[32m0.0/116.3 kB\u001b[0m \u001b[31m?\u001b[0m eta \u001b[36m-:--:--\u001b[0m\r\u001b[2K   \u001b[90m━━━━━━━━━━━━━━━━━━━━━━━━━━━━━━━━━━━━━━━━\u001b[0m \u001b[32m116.3/116.3 kB\u001b[0m \u001b[31m9.3 MB/s\u001b[0m eta \u001b[36m0:00:00\u001b[0m\n",
            "\u001b[?25h\u001b[?25l   \u001b[90m━━━━━━━━━━━━━━━━━━━━━━━━━━━━━━━━━━━━━━━━\u001b[0m \u001b[32m0.0/143.5 kB\u001b[0m \u001b[31m?\u001b[0m eta \u001b[36m-:--:--\u001b[0m\r\u001b[2K   \u001b[90m━━━━━━━━━━━━━━━━━━━━━━━━━━━━━━━━━━━━━━━━\u001b[0m \u001b[32m143.5/143.5 kB\u001b[0m \u001b[31m11.5 MB/s\u001b[0m eta \u001b[36m0:00:00\u001b[0m\n",
            "\u001b[?25h\u001b[?25l   \u001b[90m━━━━━━━━━━━━━━━━━━━━━━━━━━━━━━━━━━━━━━━━\u001b[0m \u001b[32m0.0/194.8 kB\u001b[0m \u001b[31m?\u001b[0m eta \u001b[36m-:--:--\u001b[0m\r\u001b[2K   \u001b[90m━━━━━━━━━━━━━━━━━━━━━━━━━━━━━━━━━━━━━━━━\u001b[0m \u001b[32m194.8/194.8 kB\u001b[0m \u001b[31m13.3 MB/s\u001b[0m eta \u001b[36m0:00:00\u001b[0m\n",
            "\u001b[?25h"
          ]
        }
      ]
    },
    {
      "cell_type": "code",
      "source": [
        "#!/bin/bash\n",
        "!kaggle datasets download andrewmvd/isic-2019\n",
        "!unzip -q isic-2019.zip"
      ],
      "metadata": {
        "colab": {
          "base_uri": "https://localhost:8080/"
        },
        "id": "7z6HP5mVj6Kc",
        "outputId": "4e8405aa-dc27-4334-821e-7d7cf8393d73"
      },
      "execution_count": null,
      "outputs": [
        {
          "output_type": "stream",
          "name": "stdout",
          "text": [
            "Dataset URL: https://www.kaggle.com/datasets/andrewmvd/isic-2019\n",
            "License(s): Attribution-NonCommercial 4.0 International (CC BY-NC 4.0)\n",
            "Downloading isic-2019.zip to /content\n",
            "100% 9.09G/9.10G [04:08<00:00, 36.9MB/s]\n",
            "100% 9.10G/9.10G [04:08<00:00, 39.3MB/s]\n"
          ]
        }
      ]
    },
    {
      "cell_type": "code",
      "source": [
        "import os\n",
        "import zipfile\n",
        "import pandas as pd\n",
        "import numpy as np\n",
        "import torch\n",
        "from torch import nn, optim\n",
        "from torch.utils.data import Dataset, DataLoader\n",
        "import torchvision.transforms as transforms\n",
        "from sklearn.model_selection import train_test_split\n",
        "from sklearn.utils.class_weight import compute_class_weight\n",
        "from tqdm import tqdm\n",
        "from PIL import Image"
      ],
      "metadata": {
        "id": "uvIBd2bsegY4"
      },
      "execution_count": null,
      "outputs": []
    },
    {
      "cell_type": "code",
      "source": [
        "# --- Step 2: Organize Data ---\n",
        "# Load metadata\n",
        "train_meta = pd.read_csv('ISIC_2019_Training_GroundTruth.csv')\n",
        "train_meta['image'] = train_meta['image'] + '.jpg'\n",
        "\n",
        "# Convert one-hot encoding to class labels\n",
        "classes = ['MEL', 'NV', 'BCC', 'AK', 'BKL', 'DF', 'VASC', 'SCC']\n",
        "train_meta['label'] = train_meta[classes].idxmax(axis=1)\n",
        "label_to_idx = {cls: idx for idx, cls in enumerate(classes)}\n"
      ],
      "metadata": {
        "id": "OfIr73lyeh3A"
      },
      "execution_count": null,
      "outputs": []
    },
    {
      "cell_type": "code",
      "source": [
        "train_df, temp_df = train_test_split(train_meta, test_size=0.3,\n",
        "                                    stratify=train_meta['label'], random_state=42)\n",
        "val_df, test_df = train_test_split(temp_df, test_size=0.5,\n",
        "                                  stratify=temp_df['label'], random_state=42)\n",
        "\n",
        "# --- Step 3: Define Dataset Class ---\n",
        "class ISIC2019Dataset(Dataset):\n",
        "    def __init__(self, df, img_dir='ISIC_2019_Training_Input/ISIC_2019_Training_Input', transform=None):\n",
        "        self.df = df\n",
        "        self.img_dir = img_dir\n",
        "        self.transform = transform\n",
        "        self.label_to_idx = label_to_idx\n",
        "\n",
        "    def __len__(self):\n",
        "        return len(self.df)\n",
        "\n",
        "    def __getitem__(self, idx):\n",
        "        img_path = os.path.join(self.img_dir, self.df.iloc[idx]['image'])\n",
        "        image = Image.open(img_path).convert('RGB')\n",
        "        label = self.label_to_idx[self.df.iloc[idx]['label']]\n",
        "\n",
        "        if self.transform:\n",
        "            image = self.transform(image)\n",
        "\n",
        "        return image, label"
      ],
      "metadata": {
        "id": "4oYEH2aBj7xD"
      },
      "execution_count": null,
      "outputs": []
    },
    {
      "cell_type": "code",
      "source": [
        "# --- Step 4: Data Transforms and Loaders ---\n",
        "train_transform = transforms.Compose([\n",
        "    transforms.Resize(256),\n",
        "    transforms.RandomResizedCrop(224),\n",
        "    transforms.RandomHorizontalFlip(),\n",
        "    transforms.RandomVerticalFlip(),\n",
        "    transforms.ColorJitter(brightness=0.1, contrast=0.1, saturation=0.1),\n",
        "    transforms.ToTensor(),\n",
        "    transforms.Normalize(mean=[0.485, 0.456, 0.406], std=[0.229, 0.224, 0.225]),\n",
        "])\n",
        "\n",
        "val_transform = transforms.Compose([\n",
        "    transforms.Resize(256),\n",
        "    transforms.CenterCrop(224),\n",
        "    transforms.ToTensor(),\n",
        "    transforms.Normalize(mean=[0.485, 0.456, 0.406], std=[0.229, 0.224, 0.225]),\n",
        "])\n",
        "\n",
        "# Create datasets and loaders\n",
        "batch_size = 64\n",
        "train_dataset = ISIC2019Dataset(train_df, transform=train_transform)\n",
        "val_dataset = ISIC2019Dataset(val_df, transform=val_transform)\n",
        "test_dataset = ISIC2019Dataset(test_df, transform=val_transform)\n",
        "\n",
        "train_loader = DataLoader(train_dataset, batch_size=batch_size, shuffle=True, num_workers=4)\n",
        "val_loader = DataLoader(val_dataset, batch_size=batch_size, shuffle=False, num_workers=4)\n",
        "test_loader = DataLoader(test_dataset, batch_size=batch_size, shuffle=False, num_workers=4)"
      ],
      "metadata": {
        "colab": {
          "base_uri": "https://localhost:8080/"
        },
        "id": "Fshz4BxQj95f",
        "outputId": "98558d59-2a07-49cf-c36a-3f79047fd7a2"
      },
      "execution_count": null,
      "outputs": [
        {
          "output_type": "stream",
          "name": "stderr",
          "text": [
            "/usr/local/lib/python3.11/dist-packages/torch/utils/data/dataloader.py:617: UserWarning: This DataLoader will create 4 worker processes in total. Our suggested max number of worker in current system is 2, which is smaller than what this DataLoader is going to create. Please be aware that excessive worker creation might get DataLoader running slow or even freeze, lower the worker number to avoid potential slowness/freeze if necessary.\n",
            "  warnings.warn(\n"
          ]
        }
      ]
    },
    {
      "cell_type": "code",
      "source": [
        "# --- Step 6: Model Setup ---\n",
        "device = torch.device('cuda' if torch.cuda.is_available() else 'cpu')\n",
        "\n",
        "# --- Step 5: Handle Class Imbalance ---\n",
        "train_labels = [label for _, label in train_dataset]\n",
        "class_weights = compute_class_weight('balanced', classes=np.unique(train_labels), y=train_labels)\n",
        "class_weights = torch.tensor(class_weights, dtype=torch.float).to(device)"
      ],
      "metadata": {
        "id": "zIG4o9GAfVYF"
      },
      "execution_count": null,
      "outputs": []
    },
    {
      "cell_type": "code",
      "source": [
        "import torchvision.models as models\n",
        "from torchsummary import summary\n",
        "\n",
        "class DINOv2Classifier(nn.Module):\n",
        "    def __init__(self, num_classes=8, pretrain_choice='frozen'):\n",
        "        super().__init__()\n",
        "        self.dinov2 = torch.hub.load('facebookresearch/dinov2', 'dinov2_vits14')\n",
        "\n",
        "        self.classifier = nn.Sequential(\n",
        "            nn.Linear(self.dinov2.embed_dim, 512),\n",
        "            nn.ReLU(),\n",
        "            nn.Dropout(0.2),\n",
        "            nn.Linear(512, num_classes)\n",
        "        )\n",
        "\n",
        "    def forward(self, x):\n",
        "        # Get all image features (batch_size, num_patches, embed_dim)\n",
        "        features = self.dinov2(x)\n",
        "        features = self.dinov2.norm(features)\n",
        "\n",
        "        # Handle different output formats:\n",
        "        if features.dim() == 3:  # Standard case with spatial dimensions\n",
        "            cls_token = features[:, 0, :]  # Extract [CLS] token\n",
        "\n",
        "        else:  # Fallback for 2D output\n",
        "            cls_token = features\n",
        "\n",
        "        out = self.classifier(cls_token)\n",
        "        return out\n",
        "\n",
        "# model = DINOv2Classifier().to(device)\n",
        "model = DINOv2Classifier(pretrain_choice='frozen').to(device)\n",
        "summary(model, input_size=(3, 224, 224))"
      ],
      "metadata": {
        "colab": {
          "base_uri": "https://localhost:8080/"
        },
        "id": "RYjSSyvtj_G6",
        "outputId": "aae0bf3f-b305-4c7d-cdb3-425ff1009ac8"
      },
      "execution_count": null,
      "outputs": [
        {
          "output_type": "stream",
          "name": "stderr",
          "text": [
            "Downloading: \"https://github.com/facebookresearch/dinov2/zipball/main\" to /root/.cache/torch/hub/main.zip\n",
            "/root/.cache/torch/hub/facebookresearch_dinov2_main/dinov2/layers/swiglu_ffn.py:51: UserWarning: xFormers is not available (SwiGLU)\n",
            "  warnings.warn(\"xFormers is not available (SwiGLU)\")\n",
            "/root/.cache/torch/hub/facebookresearch_dinov2_main/dinov2/layers/attention.py:33: UserWarning: xFormers is not available (Attention)\n",
            "  warnings.warn(\"xFormers is not available (Attention)\")\n",
            "/root/.cache/torch/hub/facebookresearch_dinov2_main/dinov2/layers/block.py:40: UserWarning: xFormers is not available (Block)\n",
            "  warnings.warn(\"xFormers is not available (Block)\")\n",
            "Downloading: \"https://dl.fbaipublicfiles.com/dinov2/dinov2_vits14/dinov2_vits14_pretrain.pth\" to /root/.cache/torch/hub/checkpoints/dinov2_vits14_pretrain.pth\n",
            "100%|██████████| 84.2M/84.2M [00:00<00:00, 118MB/s]\n"
          ]
        },
        {
          "output_type": "stream",
          "name": "stdout",
          "text": [
            "----------------------------------------------------------------\n",
            "        Layer (type)               Output Shape         Param #\n",
            "================================================================\n",
            "            Conv2d-1          [-1, 384, 16, 16]         226,176\n",
            "          Identity-2             [-1, 256, 384]               0\n",
            "        PatchEmbed-3             [-1, 256, 384]               0\n",
            "         LayerNorm-4             [-1, 257, 384]             768\n",
            "            Linear-5            [-1, 257, 1152]         443,520\n",
            "           Dropout-6          [-1, 6, 257, 257]               0\n",
            "            Linear-7             [-1, 257, 384]         147,840\n",
            "           Dropout-8             [-1, 257, 384]               0\n",
            "   MemEffAttention-9             [-1, 257, 384]               0\n",
            "       LayerScale-10             [-1, 257, 384]               0\n",
            "        LayerNorm-11             [-1, 257, 384]             768\n",
            "           Linear-12            [-1, 257, 1536]         591,360\n",
            "             GELU-13            [-1, 257, 1536]               0\n",
            "          Dropout-14            [-1, 257, 1536]               0\n",
            "           Linear-15             [-1, 257, 384]         590,208\n",
            "          Dropout-16             [-1, 257, 384]               0\n",
            "              Mlp-17             [-1, 257, 384]               0\n",
            "       LayerScale-18             [-1, 257, 384]               0\n",
            "NestedTensorBlock-19             [-1, 257, 384]               0\n",
            "        LayerNorm-20             [-1, 257, 384]             768\n",
            "           Linear-21            [-1, 257, 1152]         443,520\n",
            "          Dropout-22          [-1, 6, 257, 257]               0\n",
            "           Linear-23             [-1, 257, 384]         147,840\n",
            "          Dropout-24             [-1, 257, 384]               0\n",
            "  MemEffAttention-25             [-1, 257, 384]               0\n",
            "       LayerScale-26             [-1, 257, 384]               0\n",
            "        LayerNorm-27             [-1, 257, 384]             768\n",
            "           Linear-28            [-1, 257, 1536]         591,360\n",
            "             GELU-29            [-1, 257, 1536]               0\n",
            "          Dropout-30            [-1, 257, 1536]               0\n",
            "           Linear-31             [-1, 257, 384]         590,208\n",
            "          Dropout-32             [-1, 257, 384]               0\n",
            "              Mlp-33             [-1, 257, 384]               0\n",
            "       LayerScale-34             [-1, 257, 384]               0\n",
            "NestedTensorBlock-35             [-1, 257, 384]               0\n",
            "        LayerNorm-36             [-1, 257, 384]             768\n",
            "           Linear-37            [-1, 257, 1152]         443,520\n",
            "          Dropout-38          [-1, 6, 257, 257]               0\n",
            "           Linear-39             [-1, 257, 384]         147,840\n",
            "          Dropout-40             [-1, 257, 384]               0\n",
            "  MemEffAttention-41             [-1, 257, 384]               0\n",
            "       LayerScale-42             [-1, 257, 384]               0\n",
            "        LayerNorm-43             [-1, 257, 384]             768\n",
            "           Linear-44            [-1, 257, 1536]         591,360\n",
            "             GELU-45            [-1, 257, 1536]               0\n",
            "          Dropout-46            [-1, 257, 1536]               0\n",
            "           Linear-47             [-1, 257, 384]         590,208\n",
            "          Dropout-48             [-1, 257, 384]               0\n",
            "              Mlp-49             [-1, 257, 384]               0\n",
            "       LayerScale-50             [-1, 257, 384]               0\n",
            "NestedTensorBlock-51             [-1, 257, 384]               0\n",
            "        LayerNorm-52             [-1, 257, 384]             768\n",
            "           Linear-53            [-1, 257, 1152]         443,520\n",
            "          Dropout-54          [-1, 6, 257, 257]               0\n",
            "           Linear-55             [-1, 257, 384]         147,840\n",
            "          Dropout-56             [-1, 257, 384]               0\n",
            "  MemEffAttention-57             [-1, 257, 384]               0\n",
            "       LayerScale-58             [-1, 257, 384]               0\n",
            "        LayerNorm-59             [-1, 257, 384]             768\n",
            "           Linear-60            [-1, 257, 1536]         591,360\n",
            "             GELU-61            [-1, 257, 1536]               0\n",
            "          Dropout-62            [-1, 257, 1536]               0\n",
            "           Linear-63             [-1, 257, 384]         590,208\n",
            "          Dropout-64             [-1, 257, 384]               0\n",
            "              Mlp-65             [-1, 257, 384]               0\n",
            "       LayerScale-66             [-1, 257, 384]               0\n",
            "NestedTensorBlock-67             [-1, 257, 384]               0\n",
            "        LayerNorm-68             [-1, 257, 384]             768\n",
            "           Linear-69            [-1, 257, 1152]         443,520\n",
            "          Dropout-70          [-1, 6, 257, 257]               0\n",
            "           Linear-71             [-1, 257, 384]         147,840\n",
            "          Dropout-72             [-1, 257, 384]               0\n",
            "  MemEffAttention-73             [-1, 257, 384]               0\n",
            "       LayerScale-74             [-1, 257, 384]               0\n",
            "        LayerNorm-75             [-1, 257, 384]             768\n",
            "           Linear-76            [-1, 257, 1536]         591,360\n",
            "             GELU-77            [-1, 257, 1536]               0\n",
            "          Dropout-78            [-1, 257, 1536]               0\n",
            "           Linear-79             [-1, 257, 384]         590,208\n",
            "          Dropout-80             [-1, 257, 384]               0\n",
            "              Mlp-81             [-1, 257, 384]               0\n",
            "       LayerScale-82             [-1, 257, 384]               0\n",
            "NestedTensorBlock-83             [-1, 257, 384]               0\n",
            "        LayerNorm-84             [-1, 257, 384]             768\n",
            "           Linear-85            [-1, 257, 1152]         443,520\n",
            "          Dropout-86          [-1, 6, 257, 257]               0\n",
            "           Linear-87             [-1, 257, 384]         147,840\n",
            "          Dropout-88             [-1, 257, 384]               0\n",
            "  MemEffAttention-89             [-1, 257, 384]               0\n",
            "       LayerScale-90             [-1, 257, 384]               0\n",
            "        LayerNorm-91             [-1, 257, 384]             768\n",
            "           Linear-92            [-1, 257, 1536]         591,360\n",
            "             GELU-93            [-1, 257, 1536]               0\n",
            "          Dropout-94            [-1, 257, 1536]               0\n",
            "           Linear-95             [-1, 257, 384]         590,208\n",
            "          Dropout-96             [-1, 257, 384]               0\n",
            "              Mlp-97             [-1, 257, 384]               0\n",
            "       LayerScale-98             [-1, 257, 384]               0\n",
            "NestedTensorBlock-99             [-1, 257, 384]               0\n",
            "       LayerNorm-100             [-1, 257, 384]             768\n",
            "          Linear-101            [-1, 257, 1152]         443,520\n",
            "         Dropout-102          [-1, 6, 257, 257]               0\n",
            "          Linear-103             [-1, 257, 384]         147,840\n",
            "         Dropout-104             [-1, 257, 384]               0\n",
            " MemEffAttention-105             [-1, 257, 384]               0\n",
            "      LayerScale-106             [-1, 257, 384]               0\n",
            "       LayerNorm-107             [-1, 257, 384]             768\n",
            "          Linear-108            [-1, 257, 1536]         591,360\n",
            "            GELU-109            [-1, 257, 1536]               0\n",
            "         Dropout-110            [-1, 257, 1536]               0\n",
            "          Linear-111             [-1, 257, 384]         590,208\n",
            "         Dropout-112             [-1, 257, 384]               0\n",
            "             Mlp-113             [-1, 257, 384]               0\n",
            "      LayerScale-114             [-1, 257, 384]               0\n",
            "NestedTensorBlock-115             [-1, 257, 384]               0\n",
            "       LayerNorm-116             [-1, 257, 384]             768\n",
            "          Linear-117            [-1, 257, 1152]         443,520\n",
            "         Dropout-118          [-1, 6, 257, 257]               0\n",
            "          Linear-119             [-1, 257, 384]         147,840\n",
            "         Dropout-120             [-1, 257, 384]               0\n",
            " MemEffAttention-121             [-1, 257, 384]               0\n",
            "      LayerScale-122             [-1, 257, 384]               0\n",
            "       LayerNorm-123             [-1, 257, 384]             768\n",
            "          Linear-124            [-1, 257, 1536]         591,360\n",
            "            GELU-125            [-1, 257, 1536]               0\n",
            "         Dropout-126            [-1, 257, 1536]               0\n",
            "          Linear-127             [-1, 257, 384]         590,208\n",
            "         Dropout-128             [-1, 257, 384]               0\n",
            "             Mlp-129             [-1, 257, 384]               0\n",
            "      LayerScale-130             [-1, 257, 384]               0\n",
            "NestedTensorBlock-131             [-1, 257, 384]               0\n",
            "       LayerNorm-132             [-1, 257, 384]             768\n",
            "          Linear-133            [-1, 257, 1152]         443,520\n",
            "         Dropout-134          [-1, 6, 257, 257]               0\n",
            "          Linear-135             [-1, 257, 384]         147,840\n",
            "         Dropout-136             [-1, 257, 384]               0\n",
            " MemEffAttention-137             [-1, 257, 384]               0\n",
            "      LayerScale-138             [-1, 257, 384]               0\n",
            "       LayerNorm-139             [-1, 257, 384]             768\n",
            "          Linear-140            [-1, 257, 1536]         591,360\n",
            "            GELU-141            [-1, 257, 1536]               0\n",
            "         Dropout-142            [-1, 257, 1536]               0\n",
            "          Linear-143             [-1, 257, 384]         590,208\n",
            "         Dropout-144             [-1, 257, 384]               0\n",
            "             Mlp-145             [-1, 257, 384]               0\n",
            "      LayerScale-146             [-1, 257, 384]               0\n",
            "NestedTensorBlock-147             [-1, 257, 384]               0\n",
            "       LayerNorm-148             [-1, 257, 384]             768\n",
            "          Linear-149            [-1, 257, 1152]         443,520\n",
            "         Dropout-150          [-1, 6, 257, 257]               0\n",
            "          Linear-151             [-1, 257, 384]         147,840\n",
            "         Dropout-152             [-1, 257, 384]               0\n",
            " MemEffAttention-153             [-1, 257, 384]               0\n",
            "      LayerScale-154             [-1, 257, 384]               0\n",
            "       LayerNorm-155             [-1, 257, 384]             768\n",
            "          Linear-156            [-1, 257, 1536]         591,360\n",
            "            GELU-157            [-1, 257, 1536]               0\n",
            "         Dropout-158            [-1, 257, 1536]               0\n",
            "          Linear-159             [-1, 257, 384]         590,208\n",
            "         Dropout-160             [-1, 257, 384]               0\n",
            "             Mlp-161             [-1, 257, 384]               0\n",
            "      LayerScale-162             [-1, 257, 384]               0\n",
            "NestedTensorBlock-163             [-1, 257, 384]               0\n",
            "       LayerNorm-164             [-1, 257, 384]             768\n",
            "          Linear-165            [-1, 257, 1152]         443,520\n",
            "         Dropout-166          [-1, 6, 257, 257]               0\n",
            "          Linear-167             [-1, 257, 384]         147,840\n",
            "         Dropout-168             [-1, 257, 384]               0\n",
            " MemEffAttention-169             [-1, 257, 384]               0\n",
            "      LayerScale-170             [-1, 257, 384]               0\n",
            "       LayerNorm-171             [-1, 257, 384]             768\n",
            "          Linear-172            [-1, 257, 1536]         591,360\n",
            "            GELU-173            [-1, 257, 1536]               0\n",
            "         Dropout-174            [-1, 257, 1536]               0\n",
            "          Linear-175             [-1, 257, 384]         590,208\n",
            "         Dropout-176             [-1, 257, 384]               0\n",
            "             Mlp-177             [-1, 257, 384]               0\n",
            "      LayerScale-178             [-1, 257, 384]               0\n",
            "NestedTensorBlock-179             [-1, 257, 384]               0\n",
            "       LayerNorm-180             [-1, 257, 384]             768\n",
            "          Linear-181            [-1, 257, 1152]         443,520\n",
            "         Dropout-182          [-1, 6, 257, 257]               0\n",
            "          Linear-183             [-1, 257, 384]         147,840\n",
            "         Dropout-184             [-1, 257, 384]               0\n",
            " MemEffAttention-185             [-1, 257, 384]               0\n",
            "      LayerScale-186             [-1, 257, 384]               0\n",
            "       LayerNorm-187             [-1, 257, 384]             768\n",
            "          Linear-188            [-1, 257, 1536]         591,360\n",
            "            GELU-189            [-1, 257, 1536]               0\n",
            "         Dropout-190            [-1, 257, 1536]               0\n",
            "          Linear-191             [-1, 257, 384]         590,208\n",
            "         Dropout-192             [-1, 257, 384]               0\n",
            "             Mlp-193             [-1, 257, 384]               0\n",
            "      LayerScale-194             [-1, 257, 384]               0\n",
            "NestedTensorBlock-195             [-1, 257, 384]               0\n",
            "       LayerNorm-196             [-1, 257, 384]             768\n",
            "        Identity-197                  [-1, 384]               0\n",
            "DinoVisionTransformer-198                  [-1, 384]               0\n",
            "       LayerNorm-199                  [-1, 384]             768\n",
            "          Linear-200                  [-1, 512]         197,120\n",
            "            ReLU-201                  [-1, 512]               0\n",
            "         Dropout-202                  [-1, 512]               0\n",
            "          Linear-203                    [-1, 8]           4,104\n",
            "================================================================\n",
            "Total params: 21,722,504\n",
            "Trainable params: 21,722,504\n",
            "Non-trainable params: 0\n",
            "----------------------------------------------------------------\n",
            "Input size (MB): 0.57\n",
            "Forward/backward pass size (MB): 274.22\n",
            "Params size (MB): 82.86\n",
            "Estimated Total Size (MB): 357.66\n",
            "----------------------------------------------------------------\n"
          ]
        }
      ]
    },
    {
      "cell_type": "code",
      "source": [
        "criterion = nn.CrossEntropyLoss(weight=class_weights)\n",
        "optimizer = optim.AdamW(model.parameters(), lr=1e-6, weight_decay=1e-4)\n",
        "scheduler = optim.lr_scheduler.ReduceLROnPlateau(optimizer, 'min', patience=2, factor=0.5)"
      ],
      "metadata": {
        "id": "xm-d6ERJkBZx"
      },
      "execution_count": null,
      "outputs": []
    },
    {
      "cell_type": "code",
      "source": [
        "num_epochs = 25\n",
        "best_val_acc = 0.0\n",
        "\n",
        "# Lists to store metrics for plotting\n",
        "train_losses = []\n",
        "val_losses = []\n",
        "val_accs = []\n",
        "\n",
        "for epoch in range(num_epochs):\n",
        "    # Training\n",
        "    model.train()\n",
        "    train_loss = 0.0\n",
        "    train_loop = tqdm(train_loader, desc=f'Epoch {epoch+1}/{num_epochs} [Train]', leave=True)\n",
        "\n",
        "    for images, labels in train_loop:\n",
        "        images, labels = images.to(device), labels.to(device)\n",
        "\n",
        "        optimizer.zero_grad()\n",
        "        outputs = model(images)\n",
        "        loss = criterion(outputs, labels)\n",
        "        loss.backward()\n",
        "        optimizer.step()\n",
        "\n",
        "        train_loss += loss.item() * images.size(0)\n",
        "        train_loop.set_postfix({'loss': f\"{loss.item():.4f}\"})\n",
        "\n",
        "    train_loss = train_loss / len(train_loader.dataset)\n",
        "    train_losses.append(train_loss)\n",
        "\n",
        "    # Validation\n",
        "    model.eval()\n",
        "    val_loss = 0.0\n",
        "    correct = 0\n",
        "    total = 0\n",
        "    val_loop = tqdm(val_loader, desc=f'Epoch {epoch+1}/{num_epochs} [Val]', leave=True)\n",
        "\n",
        "    with torch.no_grad():\n",
        "        for images, labels in val_loop:\n",
        "            images, labels = images.to(device), labels.to(device)\n",
        "            outputs = model(images)\n",
        "            loss = criterion(outputs, labels)\n",
        "\n",
        "            val_loss += loss.item() * images.size(0)\n",
        "            _, predicted = torch.max(outputs.data, 1)\n",
        "            total += labels.size(0)\n",
        "            correct += (predicted == labels).sum().item()\n",
        "\n",
        "            val_loop.set_postfix({\n",
        "                'loss': f\"{loss.item():.4f}\",\n",
        "                'acc': f\"{correct/total:.4f}\"\n",
        "            })\n",
        "\n",
        "    val_loss /= len(val_loader.dataset)\n",
        "    val_acc = correct / total\n",
        "    val_losses.append(val_loss)\n",
        "    val_accs.append(val_acc)\n",
        "\n",
        "    scheduler.step(val_loss)\n",
        "\n",
        "    # Save best model\n",
        "    if val_acc > best_val_acc:\n",
        "        best_val_acc = val_acc\n",
        "        torch.save(model.state_dict(), 'best_dinov2_isic2019.pth')\n",
        "        print(f\"\\nNew best model saved with val acc: {val_acc:.4f}\")\n",
        "\n",
        "    print(f\"\\nEpoch {epoch+1} Summary:\")\n",
        "    print(f\"Train Loss: {train_loss:.4f} | Val Loss: {val_loss:.4f} | Val Acc: {val_acc:.4f}\")"
      ],
      "metadata": {
        "colab": {
          "base_uri": "https://localhost:8080/"
        },
        "id": "8efHFigmkCZL",
        "outputId": "75973cc2-8eaa-42dc-8e83-11288bb08196"
      },
      "execution_count": null,
      "outputs": [
        {
          "output_type": "stream",
          "name": "stderr",
          "text": [
            "\rEpoch 1/25 [Train]:   0%|          | 0/278 [00:00<?, ?it/s]/usr/local/lib/python3.11/dist-packages/torch/utils/data/dataloader.py:617: UserWarning: This DataLoader will create 4 worker processes in total. Our suggested max number of worker in current system is 2, which is smaller than what this DataLoader is going to create. Please be aware that excessive worker creation might get DataLoader running slow or even freeze, lower the worker number to avoid potential slowness/freeze if necessary.\n",
            "  warnings.warn(\n",
            "Epoch 1/25 [Train]: 100%|██████████| 278/278 [05:52<00:00,  1.27s/it, loss=0.9597]\n",
            "Epoch 1/25 [Val]: 100%|██████████| 60/60 [01:01<00:00,  1.03s/it, loss=1.6919, acc=0.5432]\n"
          ]
        },
        {
          "output_type": "stream",
          "name": "stdout",
          "text": [
            "\n",
            "New best model saved with val acc: 0.5432\n",
            "\n",
            "Epoch 1 Summary:\n",
            "Train Loss: 1.8505 | Val Loss: 1.4987 | Val Acc: 0.5432\n"
          ]
        },
        {
          "output_type": "stream",
          "name": "stderr",
          "text": [
            "Epoch 2/25 [Train]: 100%|██████████| 278/278 [05:55<00:00,  1.28s/it, loss=0.5812]\n",
            "Epoch 2/25 [Val]: 100%|██████████| 60/60 [00:59<00:00,  1.00it/s, loss=1.4811, acc=0.6234]\n"
          ]
        },
        {
          "output_type": "stream",
          "name": "stdout",
          "text": [
            "\n",
            "New best model saved with val acc: 0.6234\n",
            "\n",
            "Epoch 2 Summary:\n",
            "Train Loss: 1.4538 | Val Loss: 1.2576 | Val Acc: 0.6234\n"
          ]
        },
        {
          "output_type": "stream",
          "name": "stderr",
          "text": [
            "Epoch 3/25 [Train]: 100%|██████████| 278/278 [05:56<00:00,  1.28s/it, loss=1.5694]\n",
            "Epoch 3/25 [Val]: 100%|██████████| 60/60 [00:58<00:00,  1.03it/s, loss=1.3353, acc=0.6208]\n"
          ]
        },
        {
          "output_type": "stream",
          "name": "stdout",
          "text": [
            "\n",
            "Epoch 3 Summary:\n",
            "Train Loss: 1.2701 | Val Loss: 1.1250 | Val Acc: 0.6208\n"
          ]
        },
        {
          "output_type": "stream",
          "name": "stderr",
          "text": [
            "Epoch 4/25 [Train]: 100%|██████████| 278/278 [05:52<00:00,  1.27s/it, loss=1.8870]\n",
            "Epoch 4/25 [Val]: 100%|██████████| 60/60 [00:58<00:00,  1.03it/s, loss=1.3261, acc=0.6355]\n"
          ]
        },
        {
          "output_type": "stream",
          "name": "stdout",
          "text": [
            "\n",
            "New best model saved with val acc: 0.6355\n",
            "\n",
            "Epoch 4 Summary:\n",
            "Train Loss: 1.1720 | Val Loss: 1.0650 | Val Acc: 0.6355\n"
          ]
        },
        {
          "output_type": "stream",
          "name": "stderr",
          "text": [
            "Epoch 5/25 [Train]: 100%|██████████| 278/278 [05:52<00:00,  1.27s/it, loss=0.6712]\n",
            "Epoch 5/25 [Val]: 100%|██████████| 60/60 [00:58<00:00,  1.03it/s, loss=1.2449, acc=0.6442]\n"
          ]
        },
        {
          "output_type": "stream",
          "name": "stdout",
          "text": [
            "\n",
            "New best model saved with val acc: 0.6442\n",
            "\n",
            "Epoch 5 Summary:\n",
            "Train Loss: 1.1121 | Val Loss: 0.9788 | Val Acc: 0.6442\n"
          ]
        },
        {
          "output_type": "stream",
          "name": "stderr",
          "text": [
            "Epoch 6/25 [Train]: 100%|██████████| 278/278 [05:52<00:00,  1.27s/it, loss=1.4982]\n",
            "Epoch 6/25 [Val]: 100%|██████████| 60/60 [00:58<00:00,  1.02it/s, loss=1.2708, acc=0.6524]\n"
          ]
        },
        {
          "output_type": "stream",
          "name": "stdout",
          "text": [
            "\n",
            "New best model saved with val acc: 0.6524\n",
            "\n",
            "Epoch 6 Summary:\n",
            "Train Loss: 1.0351 | Val Loss: 0.9630 | Val Acc: 0.6524\n"
          ]
        },
        {
          "output_type": "stream",
          "name": "stderr",
          "text": [
            "Epoch 7/25 [Train]: 100%|██████████| 278/278 [05:50<00:00,  1.26s/it, loss=1.9290]\n",
            "Epoch 7/25 [Val]: 100%|██████████| 60/60 [01:00<00:00,  1.01s/it, loss=1.1327, acc=0.6845]\n"
          ]
        },
        {
          "output_type": "stream",
          "name": "stdout",
          "text": [
            "\n",
            "New best model saved with val acc: 0.6845\n",
            "\n",
            "Epoch 7 Summary:\n",
            "Train Loss: 1.0046 | Val Loss: 0.9268 | Val Acc: 0.6845\n"
          ]
        },
        {
          "output_type": "stream",
          "name": "stderr",
          "text": [
            "Epoch 8/25 [Train]: 100%|██████████| 278/278 [05:55<00:00,  1.28s/it, loss=1.6726]\n",
            "Epoch 8/25 [Val]: 100%|██████████| 60/60 [00:58<00:00,  1.02it/s, loss=1.2041, acc=0.6534]\n"
          ]
        },
        {
          "output_type": "stream",
          "name": "stdout",
          "text": [
            "\n",
            "Epoch 8 Summary:\n",
            "Train Loss: 0.9371 | Val Loss: 0.8971 | Val Acc: 0.6534\n"
          ]
        },
        {
          "output_type": "stream",
          "name": "stderr",
          "text": [
            "Epoch 9/25 [Train]: 100%|██████████| 278/278 [05:56<00:00,  1.28s/it, loss=0.5901]\n",
            "Epoch 9/25 [Val]: 100%|██████████| 60/60 [00:58<00:00,  1.02it/s, loss=1.1420, acc=0.6837]\n"
          ]
        },
        {
          "output_type": "stream",
          "name": "stdout",
          "text": [
            "\n",
            "Epoch 9 Summary:\n",
            "Train Loss: 0.9042 | Val Loss: 0.8655 | Val Acc: 0.6837\n"
          ]
        },
        {
          "output_type": "stream",
          "name": "stderr",
          "text": [
            "Epoch 10/25 [Train]: 100%|██████████| 278/278 [05:50<00:00,  1.26s/it, loss=2.5732]\n",
            "Epoch 10/25 [Val]: 100%|██████████| 60/60 [00:58<00:00,  1.03it/s, loss=1.1778, acc=0.6768]\n"
          ]
        },
        {
          "output_type": "stream",
          "name": "stdout",
          "text": [
            "\n",
            "Epoch 10 Summary:\n",
            "Train Loss: 0.8801 | Val Loss: 0.8942 | Val Acc: 0.6768\n"
          ]
        },
        {
          "output_type": "stream",
          "name": "stderr",
          "text": [
            "Epoch 11/25 [Train]: 100%|██████████| 278/278 [05:50<00:00,  1.26s/it, loss=0.4845]\n",
            "Epoch 11/25 [Val]: 100%|██████████| 60/60 [00:58<00:00,  1.03it/s, loss=0.9732, acc=0.6842]\n"
          ]
        },
        {
          "output_type": "stream",
          "name": "stdout",
          "text": [
            "\n",
            "Epoch 11 Summary:\n",
            "Train Loss: 0.8188 | Val Loss: 0.8675 | Val Acc: 0.6842\n"
          ]
        },
        {
          "output_type": "stream",
          "name": "stderr",
          "text": [
            "Epoch 12/25 [Train]: 100%|██████████| 278/278 [05:46<00:00,  1.25s/it, loss=0.2197]\n",
            "Epoch 12/25 [Val]: 100%|██████████| 60/60 [00:59<00:00,  1.01it/s, loss=1.1007, acc=0.6871]\n"
          ]
        },
        {
          "output_type": "stream",
          "name": "stdout",
          "text": [
            "\n",
            "New best model saved with val acc: 0.6871\n",
            "\n",
            "Epoch 12 Summary:\n",
            "Train Loss: 0.8086 | Val Loss: 0.8113 | Val Acc: 0.6871\n"
          ]
        },
        {
          "output_type": "stream",
          "name": "stderr",
          "text": [
            "Epoch 13/25 [Train]: 100%|██████████| 278/278 [05:42<00:00,  1.23s/it, loss=0.1584]\n",
            "Epoch 13/25 [Val]: 100%|██████████| 60/60 [01:00<00:00,  1.01s/it, loss=0.9353, acc=0.7121]\n"
          ]
        },
        {
          "output_type": "stream",
          "name": "stdout",
          "text": [
            "\n",
            "New best model saved with val acc: 0.7121\n",
            "\n",
            "Epoch 13 Summary:\n",
            "Train Loss: 0.7941 | Val Loss: 0.8026 | Val Acc: 0.7121\n"
          ]
        },
        {
          "output_type": "stream",
          "name": "stderr",
          "text": [
            "Epoch 14/25 [Train]: 100%|██████████| 278/278 [05:53<00:00,  1.27s/it, loss=0.1691]\n",
            "Epoch 14/25 [Val]: 100%|██████████| 60/60 [00:58<00:00,  1.02it/s, loss=0.8330, acc=0.7200]\n"
          ]
        },
        {
          "output_type": "stream",
          "name": "stdout",
          "text": [
            "\n",
            "New best model saved with val acc: 0.7200\n",
            "\n",
            "Epoch 14 Summary:\n",
            "Train Loss: 0.7682 | Val Loss: 0.8486 | Val Acc: 0.7200\n"
          ]
        },
        {
          "output_type": "stream",
          "name": "stderr",
          "text": [
            "Epoch 15/25 [Train]: 100%|██████████| 278/278 [05:52<00:00,  1.27s/it, loss=0.2209]\n",
            "Epoch 15/25 [Val]: 100%|██████████| 60/60 [00:58<00:00,  1.02it/s, loss=0.8312, acc=0.6987]\n"
          ]
        },
        {
          "output_type": "stream",
          "name": "stdout",
          "text": [
            "\n",
            "Epoch 15 Summary:\n",
            "Train Loss: 0.7561 | Val Loss: 0.8152 | Val Acc: 0.6987\n"
          ]
        },
        {
          "output_type": "stream",
          "name": "stderr",
          "text": [
            "Epoch 16/25 [Train]: 100%|██████████| 278/278 [05:49<00:00,  1.26s/it, loss=0.2570]\n",
            "Epoch 16/25 [Val]: 100%|██████████| 60/60 [00:57<00:00,  1.04it/s, loss=0.9385, acc=0.7058]\n"
          ]
        },
        {
          "output_type": "stream",
          "name": "stdout",
          "text": [
            "\n",
            "Epoch 16 Summary:\n",
            "Train Loss: 0.7265 | Val Loss: 0.7754 | Val Acc: 0.7058\n"
          ]
        },
        {
          "output_type": "stream",
          "name": "stderr",
          "text": [
            "Epoch 17/25 [Train]: 100%|██████████| 278/278 [05:50<00:00,  1.26s/it, loss=0.1192]\n",
            "Epoch 17/25 [Val]: 100%|██████████| 60/60 [00:58<00:00,  1.03it/s, loss=0.8211, acc=0.7479]\n"
          ]
        },
        {
          "output_type": "stream",
          "name": "stdout",
          "text": [
            "\n",
            "New best model saved with val acc: 0.7479\n",
            "\n",
            "Epoch 17 Summary:\n",
            "Train Loss: 0.7096 | Val Loss: 0.7664 | Val Acc: 0.7479\n"
          ]
        },
        {
          "output_type": "stream",
          "name": "stderr",
          "text": [
            "Epoch 18/25 [Train]: 100%|██████████| 278/278 [05:53<00:00,  1.27s/it, loss=0.4074]\n",
            "Epoch 18/25 [Val]: 100%|██████████| 60/60 [00:58<00:00,  1.03it/s, loss=0.7675, acc=0.7321]\n"
          ]
        },
        {
          "output_type": "stream",
          "name": "stdout",
          "text": [
            "\n",
            "Epoch 18 Summary:\n",
            "Train Loss: 0.7216 | Val Loss: 0.7714 | Val Acc: 0.7321\n"
          ]
        },
        {
          "output_type": "stream",
          "name": "stderr",
          "text": [
            "Epoch 19/25 [Train]: 100%|██████████| 278/278 [05:52<00:00,  1.27s/it, loss=0.9190]\n",
            "Epoch 19/25 [Val]: 100%|██████████| 60/60 [00:58<00:00,  1.03it/s, loss=0.7914, acc=0.7545]\n"
          ]
        },
        {
          "output_type": "stream",
          "name": "stdout",
          "text": [
            "\n",
            "New best model saved with val acc: 0.7545\n",
            "\n",
            "Epoch 19 Summary:\n",
            "Train Loss: 0.6785 | Val Loss: 0.7433 | Val Acc: 0.7545\n"
          ]
        },
        {
          "output_type": "stream",
          "name": "stderr",
          "text": [
            "Epoch 20/25 [Train]: 100%|██████████| 278/278 [05:48<00:00,  1.25s/it, loss=0.3058]\n",
            "Epoch 20/25 [Val]: 100%|██████████| 60/60 [00:59<00:00,  1.01it/s, loss=0.7469, acc=0.7289]\n"
          ]
        },
        {
          "output_type": "stream",
          "name": "stdout",
          "text": [
            "\n",
            "Epoch 20 Summary:\n",
            "Train Loss: 0.6958 | Val Loss: 0.7753 | Val Acc: 0.7289\n"
          ]
        },
        {
          "output_type": "stream",
          "name": "stderr",
          "text": [
            "Epoch 21/25 [Train]: 100%|██████████| 278/278 [05:54<00:00,  1.28s/it, loss=0.2638]\n",
            "Epoch 21/25 [Val]: 100%|██████████| 60/60 [00:59<00:00,  1.01it/s, loss=0.7678, acc=0.7513]\n"
          ]
        },
        {
          "output_type": "stream",
          "name": "stdout",
          "text": [
            "\n",
            "Epoch 21 Summary:\n",
            "Train Loss: 0.6485 | Val Loss: 0.7462 | Val Acc: 0.7513\n"
          ]
        },
        {
          "output_type": "stream",
          "name": "stderr",
          "text": [
            "Epoch 22/25 [Train]: 100%|██████████| 278/278 [05:46<00:00,  1.25s/it, loss=0.5258]\n",
            "Epoch 22/25 [Val]: 100%|██████████| 60/60 [00:58<00:00,  1.03it/s, loss=0.7075, acc=0.7524]\n"
          ]
        },
        {
          "output_type": "stream",
          "name": "stdout",
          "text": [
            "\n",
            "Epoch 22 Summary:\n",
            "Train Loss: 0.6395 | Val Loss: 0.7214 | Val Acc: 0.7524\n"
          ]
        },
        {
          "output_type": "stream",
          "name": "stderr",
          "text": [
            "Epoch 23/25 [Train]: 100%|██████████| 278/278 [06:12<00:00,  1.34s/it, loss=0.3109]\n",
            "Epoch 23/25 [Val]: 100%|██████████| 60/60 [00:58<00:00,  1.03it/s, loss=0.6809, acc=0.7461]\n"
          ]
        },
        {
          "output_type": "stream",
          "name": "stdout",
          "text": [
            "\n",
            "Epoch 23 Summary:\n",
            "Train Loss: 0.6295 | Val Loss: 0.7445 | Val Acc: 0.7461\n"
          ]
        },
        {
          "output_type": "stream",
          "name": "stderr",
          "text": [
            "Epoch 24/25 [Train]: 100%|██████████| 278/278 [05:46<00:00,  1.24s/it, loss=0.2863]\n",
            "Epoch 24/25 [Val]: 100%|██████████| 60/60 [00:58<00:00,  1.03it/s, loss=0.5879, acc=0.7566]\n"
          ]
        },
        {
          "output_type": "stream",
          "name": "stdout",
          "text": [
            "\n",
            "New best model saved with val acc: 0.7566\n",
            "\n",
            "Epoch 24 Summary:\n",
            "Train Loss: 0.6417 | Val Loss: 0.7665 | Val Acc: 0.7566\n"
          ]
        },
        {
          "output_type": "stream",
          "name": "stderr",
          "text": [
            "Epoch 25/25 [Train]: 100%|██████████| 278/278 [05:45<00:00,  1.24s/it, loss=0.9800]\n",
            "Epoch 25/25 [Val]: 100%|██████████| 60/60 [00:58<00:00,  1.03it/s, loss=0.6029, acc=0.7500]"
          ]
        },
        {
          "output_type": "stream",
          "name": "stdout",
          "text": [
            "\n",
            "Epoch 25 Summary:\n",
            "Train Loss: 0.5879 | Val Loss: 0.7366 | Val Acc: 0.7500\n"
          ]
        },
        {
          "output_type": "stream",
          "name": "stderr",
          "text": [
            "\n"
          ]
        }
      ]
    },
    {
      "cell_type": "code",
      "source": [
        "import matplotlib.pyplot as plt\n",
        "\n",
        "# Plotting the metrics after training\n",
        "epochs = range(1, num_epochs + 1)\n",
        "\n",
        "plt.figure(figsize=(12, 5))\n",
        "\n",
        "# Plot Train and Validation Loss\n",
        "plt.subplot(1, 2, 1)\n",
        "plt.plot(epochs, train_losses, label='Train Loss')\n",
        "plt.plot(epochs, val_losses, label='Val Loss')\n",
        "plt.xlabel('Epoch')\n",
        "plt.ylabel('Loss')\n",
        "plt.title('Train & Validation Loss')\n",
        "plt.legend()\n",
        "\n",
        "# Plot Validation Accuracy\n",
        "plt.subplot(1, 2, 2)\n",
        "plt.plot(epochs, val_accs, label='Val Accuracy', color='green')\n",
        "plt.xlabel('Epoch')\n",
        "plt.ylabel('Accuracy')\n",
        "plt.title('Validation Accuracy')\n",
        "plt.legend()\n",
        "\n",
        "plt.tight_layout()\n",
        "plt.show()"
      ],
      "metadata": {
        "colab": {
          "base_uri": "https://localhost:8080/",
          "height": 435
        },
        "id": "Gjf9-se53RwX",
        "outputId": "b34803f0-fd83-4a89-afdc-bc188f13d7c1"
      },
      "execution_count": null,
      "outputs": [
        {
          "output_type": "display_data",
          "data": {
            "text/plain": [
              "<Figure size 1200x500 with 2 Axes>"
            ],
            "image/png": "[encoded data removed]"
          },
          "metadata": {}
        }
      ]
    },
    {
      "cell_type": "code",
      "source": [
        "# --- Step 9: Final Evaluation ---\n",
        "model.load_state_dict(torch.load('best_dinov2_isic2019.pth'))\n",
        "model.eval()\n",
        "test_correct = 0\n",
        "test_total = 0\n",
        "test_loop = tqdm(test_loader, desc='Testing', leave=True)\n",
        "\n",
        "with torch.no_grad():\n",
        "    for images, labels in test_loop:\n",
        "        images, labels = images.to(device), labels.to(device)\n",
        "        outputs = model(images)\n",
        "        _, predicted = torch.max(outputs.data, 1)\n",
        "        test_total += labels.size(0)\n",
        "        test_correct += (predicted == labels).sum().item()\n",
        "\n",
        "        test_loop.set_postfix({'acc': f\"{test_correct/test_total:.4f}\"})\n",
        "\n",
        "test_acc = test_correct / test_total\n",
        "print(f\"\\nFinal Test Accuracy: {test_acc:.4f}\")"
      ],
      "metadata": {
        "colab": {
          "base_uri": "https://localhost:8080/"
        },
        "id": "2OhxD4SykFKT",
        "outputId": "8ce9665f-92c9-44ff-bff1-10531d23bd3d"
      },
      "execution_count": null,
      "outputs": [
        {
          "output_type": "stream",
          "name": "stderr",
          "text": [
            "<ipython-input-14-f1790a0a500c>:2: FutureWarning: You are using `torch.load` with `weights_only=False` (the current default value), which uses the default pickle module implicitly. It is possible to construct malicious pickle data which will execute arbitrary code during unpickling (See https://github.com/pytorch/pytorch/blob/main/SECURITY.md#untrusted-models for more details). In a future release, the default value for `weights_only` will be flipped to `True`. This limits the functions that could be executed during unpickling. Arbitrary objects will no longer be allowed to be loaded via this mode unless they are explicitly allowlisted by the user via `torch.serialization.add_safe_globals`. We recommend you start setting `weights_only=True` for any use case where you don't have full control of the loaded file. Please open an issue on GitHub for any issues related to this experimental feature.\n",
            "  model.load_state_dict(torch.load('best_dinov2_isic2019.pth'))\n",
            "Testing: 100%|██████████| 60/60 [00:58<00:00,  1.03it/s, acc=0.7532]"
          ]
        },
        {
          "output_type": "stream",
          "name": "stdout",
          "text": [
            "\n",
            "Final Test Accuracy: 0.7532\n"
          ]
        },
        {
          "output_type": "stream",
          "name": "stderr",
          "text": [
            "\n"
          ]
        }
      ]
    }
  ]
}